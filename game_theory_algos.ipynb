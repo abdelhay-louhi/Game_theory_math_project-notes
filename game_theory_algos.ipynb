{
 "cells": [
  {
   "cell_type": "markdown",
   "metadata": {},
   "source": [
    "# Game theory Algorithms:"
   ]
  },
  {
   "cell_type": "markdown",
   "metadata": {},
   "source": [
    "## cooperative games:"
   ]
  },
  {
   "cell_type": "markdown",
   "metadata": {},
   "source": [
    "### shaplay value algorithm:"
   ]
  },
  {
   "cell_type": "code",
   "execution_count": 5,
   "metadata": {},
   "outputs": [],
   "source": [
    "from itertools import permutations"
   ]
  },
  {
   "cell_type": "code",
   "execution_count": 6,
   "metadata": {},
   "outputs": [],
   "source": [
    "def shapley_value(players, v):\n",
    "    n = len(players)\n",
    "    shapley_values = {player: 0 for player in players}\n",
    "\n",
    "    for player in players:\n",
    "        for perm in permutations(players):\n",
    "            coalition = list(perm)\n",
    "            index = coalition.index(player)\n",
    "\n",
    "            coalition_with_player = coalition[:index+1]\n",
    "            coalition_without_player = coalition[:index] + coalition[index+1:]\n",
    "\n",
    "            worth_with_player = v(coalition_with_player)\n",
    "            worth_without_player = v(coalition_without_player)\n",
    "\n",
    "            marginal_contribution = worth_with_player - worth_without_player\n",
    "\n",
    "            shapley_values[player] += marginal_contribution\n",
    "\n",
    "    # Normalize the Shapley values\n",
    "    for player in players:\n",
    "        shapley_values[player] /= factorial(n)\n",
    "\n",
    "    return shapley_values\n",
    "\n",
    "def factorial(n):\n",
    "    result = 1\n",
    "    for i in range(1, n + 1):\n",
    "        result *= i\n",
    "    return result"
   ]
  },
  {
   "cell_type": "code",
   "execution_count": 7,
   "metadata": {},
   "outputs": [
    {
     "name": "stdout",
     "output_type": "stream",
     "text": [
      "Shapley Values:\n",
      "Player 1: -1.5\n",
      "Player 2: 0.0\n",
      "Player 3: 1.5\n"
     ]
    }
   ],
   "source": [
    "# Example usage:\n",
    "# Define a simple characteristic function\n",
    "def characteristic_function(coalition):\n",
    "    # Example: worth is the sum of player indices in the coalition\n",
    "    return sum(coalition)\n",
    "\n",
    "players = [1, 2, 3]\n",
    "result = shapley_value(players, characteristic_function)\n",
    "\n",
    "print(\"Shapley Values:\")\n",
    "for player, value in result.items():\n",
    "    print(f\"Player {player}: {value}\")"
   ]
  },
  {
   "cell_type": "markdown",
   "metadata": {},
   "source": [
    "## non-cooperative games:"
   ]
  },
  {
   "cell_type": "markdown",
   "metadata": {},
   "source": [
    "### Mixed Strategy Nash Equilibrium:"
   ]
  },
  {
   "cell_type": "code",
   "execution_count": 2,
   "metadata": {},
   "outputs": [],
   "source": [
    "from scipy.optimize import linprog\n"
   ]
  },
  {
   "cell_type": "code",
   "execution_count": 1,
   "metadata": {},
   "outputs": [
    {
     "name": "stdout",
     "output_type": "stream",
     "text": [
      "Mixed Strategy Probabilities:\n",
      "Player 1: 1.0\n",
      "Player 2: -0.0\n",
      "Player 3: 0.0\n"
     ]
    }
   ],
   "source": [
    "\n",
    "def solve_mixed_strategy(payoff_matrix):\n",
    "    num_rows, num_cols = len(payoff_matrix), len(payoff_matrix[0])\n",
    "\n",
    "    # Formulate the linear programming problem\n",
    "    c = [-1] * num_cols  # Objective function coefficients (minimize -x)\n",
    "    A_eq = [[1] * num_cols]  # Equality constraint matrix\n",
    "    b_eq = [1]  # Equality constraint vector\n",
    "\n",
    "    # Solve the linear programming problem\n",
    "    result = linprog(c, A_eq=A_eq, b_eq=b_eq, bounds=[(0, 1)] * num_cols, method='highs')\n",
    "\n",
    "    # Extract mixed strategy probabilities\n",
    "    mixed_strategy = result.x\n",
    "\n",
    "    return mixed_strategy\n",
    "\n",
    "# Example usage:\n",
    "payoff_matrix = [\n",
    "    [3, 1, 0],\n",
    "    [0, 2, 4],\n",
    "    [1, 3, 1]\n",
    "]\n",
    "\n",
    "mixed_strategy = solve_mixed_strategy(payoff_matrix)\n",
    "\n",
    "print(\"Mixed Strategy Probabilities:\")\n",
    "for i, probability in enumerate(mixed_strategy):\n",
    "    print(f\"Player {i + 1}: {probability}\")\n"
   ]
  }
 ],
 "metadata": {
  "kernelspec": {
   "display_name": "anaDon",
   "language": "python",
   "name": "python3"
  },
  "language_info": {
   "codemirror_mode": {
    "name": "ipython",
    "version": 3
   },
   "file_extension": ".py",
   "mimetype": "text/x-python",
   "name": "python",
   "nbconvert_exporter": "python",
   "pygments_lexer": "ipython3",
   "version": "3.12.1"
  }
 },
 "nbformat": 4,
 "nbformat_minor": 2
}
