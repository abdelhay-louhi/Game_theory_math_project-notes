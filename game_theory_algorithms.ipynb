{
 "cells": [
  {
   "cell_type": "markdown",
   "metadata": {},
   "source": [
    "# Game theory Algorithms:"
   ]
  },
  {
   "cell_type": "markdown",
   "metadata": {},
   "source": [
    "## cooperative games:"
   ]
  },
  {
   "cell_type": "markdown",
   "metadata": {},
   "source": [
    "**Les jeux coopératifs:** sont des activités où les joueurs travaillent ensemble pour atteindre un objectif commun, plutôt que de s'affronter.  \n",
    "Et voici algorithme Shaplay value utilisés dans la théorie des jeux coopératifs:"
   ]
  },
  {
   "cell_type": "markdown",
   "metadata": {},
   "source": [
    "### Shaplay value algorithm:"
   ]
  },
  {
   "cell_type": "markdown",
   "metadata": {},
   "source": [
    "Le Shapley Value est un algorithme utilisé en théorie des jeux pour attribuer de manière équitable la contribution de chaque joueur à la valeur totale d'un jeu coopératif. Il se base sur toutes les permutations possibles des joueurs pour calculer leur contribution marginale moyenne."
   ]
  },
  {
   "cell_type": "code",
   "execution_count": 81,
   "metadata": {},
   "outputs": [],
   "source": [
    "from itertools import chain, combinations\n",
    "\n",
    "def calculate_shapley_value(player, players, value_function):\n",
    "    n = len(players)\n",
    "    shapley_value = 0\n",
    "\n",
    "    for subset in powerset(players):\n",
    "        if player not in subset:\n",
    "            cardinality = len(subset)\n",
    "            coalition_with_player = tuple(subset) + (player,)\n",
    "            marginal_contribution = value_function(coalition_with_player) - value_function(subset)\n",
    "            shapley_value += (factorial(cardinality) * factorial(n - cardinality - 1) / factorial(n)) * marginal_contribution\n",
    "\n",
    "    return shapley_value\n",
    "\n",
    "def powerset(iterable):\n",
    "    s = list(iterable)\n",
    "    return chain.from_iterable(combinations(s, r) for r in range(len(s) + 1))\n",
    "\n",
    "def factorial(num):\n",
    "    return 1 if num == 0 else num * factorial(num - 1)\n",
    "\n",
    "def split_prize(players, value_function, total_prize):\n",
    "    shapley_values = {player: calculate_shapley_value(player, tuple(players), value_function) for player in players}\n",
    "    total_shapley_values = sum(shapley_values.values())\n",
    "\n",
    "    prize_distribution = {player: total_prize * shapley_value / total_shapley_values for player, shapley_value in shapley_values.items()}\n",
    "\n",
    "    return prize_distribution"
   ]
  },
  {
   "cell_type": "markdown",
   "metadata": {},
   "source": [
    "Voila une exemple dans l'aquelle on utilise shapley values pour split faily a prize 20000$,  \n",
    "between tow players ('A', 13000) et ('B', 10500)"
   ]
  },
  {
   "cell_type": "code",
   "execution_count": 82,
   "metadata": {},
   "outputs": [
    {
     "name": "stdout",
     "output_type": "stream",
     "text": [
      "Prize Distribution: {('A', 13000): 11063.829787234043, ('B', 10500): 8936.170212765957}\n"
     ]
    }
   ],
   "source": [
    "# Example usage\n",
    "def value_function(coalition):\n",
    "    return sum(player[1] for player in coalition)  # Sum of player values in the coalition\n",
    "\n",
    "players = [(\"A\", 13000), (\"B\", 10500)]\n",
    "total_prize = 20000\n",
    "\n",
    "prize_distribution = split_prize(players, value_function, total_prize)\n",
    "\n",
    "print(\"Prize Distribution:\", prize_distribution)\n"
   ]
  },
  {
   "cell_type": "markdown",
   "metadata": {},
   "source": [
    "**Shapley Values dans le problème des joueurs dans une équipe de football:** Le problème classique où les valeurs de Shapley sont utilisées est le problème de la coalition dans les jeux coopératifs.\n",
    "Un exemple courant est le problème des joueurs dans une équipe de football qui contribuent de manière collective à la victoire de l'équipe.\n",
    "Imaginons que nous ayons une équipe de football avec trois joueurs : Alice, Bob et Charlie.\n",
    "Chacun d'eux contribue de manière unique au succès de l'équipe, et nous voulons attribuer une valeur à chaque joueur en fonction de sa contribution.\n",
    "Voici un exemple de script Python pour calculer les valeurs de Shapley dans ce contexte :"
   ]
  },
  {
   "cell_type": "code",
   "execution_count": 83,
   "metadata": {},
   "outputs": [
    {
     "name": "stdout",
     "output_type": "stream",
     "text": [
      "Alice: 20.0\n",
      "Bob: 15.999999999999998\n",
      "Charlie: 12.0\n"
     ]
    }
   ],
   "source": [
    "from itertools import permutations\n",
    "\n",
    "def coalition_value(coalition, marginal_contributions):\n",
    "    # Calcule la valeur d'une coalition\n",
    "    return sum(marginal_contributions[player] for player in coalition)\n",
    "\n",
    "def shapley_values(players, value_function):\n",
    "    # Calcule les valeurs de Shapley pour chaque joueur\n",
    "    num_players = len(players)\n",
    "    shapley_values = {player: 0.0 for player in players}\n",
    "\n",
    "    for player in players:\n",
    "        for perm in permutations(players):\n",
    "            coalition = list(perm)\n",
    "            player_index = coalition.index(player)\n",
    "            without_player = coalition[:player_index] + coalition[player_index+1:]\n",
    "            with_player = coalition[:player_index] + [player] + coalition[player_index:]\n",
    "\n",
    "            shapley_values[player] += (value_function(with_player) - value_function(without_player)) / factorial(num_players)\n",
    "\n",
    "    return shapley_values\n",
    "\n",
    "# Exemple avec une équipe de football\n",
    "players = ['Alice', 'Bob', 'Charlie']\n",
    "\n",
    "# Fonction de valeur : la somme des forces des joueurs dans l'équipe\n",
    "def team_value(coalition):\n",
    "    return sum(player_strength[player] for player in coalition)\n",
    "\n",
    "# Forces des joueurs\n",
    "player_strength = {'Alice': 10, 'Bob': 8, 'Charlie': 6}\n",
    "\n",
    "# Calcul des valeurs de Shapley\n",
    "shapley = shapley_values(players, team_value)\n",
    "\n",
    "# Affichage des résultats\n",
    "for player, value in shapley.items():\n",
    "    print(f\"{player}: {value}\")\n"
   ]
  },
  {
   "cell_type": "markdown",
   "metadata": {},
   "source": [
    "## non-cooperative games:"
   ]
  },
  {
   "cell_type": "markdown",
   "metadata": {},
   "source": [
    "### Mixed Strategy Nash Equilibrium:"
   ]
  },
  {
   "cell_type": "markdown",
   "metadata": {},
   "source": [
    "Stratégie mixte en théorie des jeux signifie qu'un joueur prend des décisions de manière probabiliste,  \n",
    "mélangeant différentes actions avec des probabilités spécifiques.  \n",
    "L'équilibre de Nash en stratégies mixtes est une solution où chaque joueur rend ses adversaires indifférents   \n",
    "entre différentes actions possibles, et aucun joueur n'a intérêt à dévier de sa stratégie mixte."
   ]
  },
  {
   "cell_type": "code",
   "execution_count": 84,
   "metadata": {},
   "outputs": [
    {
     "name": "stdout",
     "output_type": "stream",
     "text": [
      "Joueur 1 choisit ciseaux\n",
      "Joueur 2 choisit pierre\n",
      "Résultat : Joueur 2 remporte la partie\n"
     ]
    }
   ],
   "source": [
    "import random\n",
    "\n",
    "def jouer_pierre_papier_ciseaux(strategie_joueur1, strategie_joueur2):\n",
    "    actions = [\"pierre\", \"papier\", \"ciseaux\"]\n",
    "\n",
    "    # Joueurs choisissent une action en fonction de leur stratégie mixte\n",
    "    action_joueur1 = random.choices(actions, weights=strategie_joueur1)[0]\n",
    "    action_joueur2 = random.choices(actions, weights=strategie_joueur2)[0]\n",
    "\n",
    "    # Afficher les choix des joueurs\n",
    "    print(f\"Joueur 1 choisit {action_joueur1}\")\n",
    "    print(f\"Joueur 2 choisit {action_joueur2}\")\n",
    "\n",
    "    # Déterminer le résultat du jeu\n",
    "    if action_joueur1 == action_joueur2:\n",
    "        return \"Match nul\"\n",
    "    elif (\n",
    "        (action_joueur1 == \"pierre\" and action_joueur2 == \"ciseaux\") or\n",
    "        (action_joueur1 == \"papier\" and action_joueur2 == \"pierre\") or\n",
    "        (action_joueur1 == \"ciseaux\" and action_joueur2 == \"papier\")\n",
    "    ):\n",
    "        return \"Joueur 1 remporte la partie\"\n",
    "    else:\n",
    "        return \"Joueur 2 remporte la partie\"\n",
    "\n",
    "# Exemple d'utilisation avec des stratégies mixtes\n",
    "strategie_joueur1 = [0.3, 0.4, 0.3]  # Probabilités pour pierre, papier, ciseaux\n",
    "strategie_joueur2 = [0.4, 0.3, 0.3]  # Probabilités pour pierre, papier, ciseaux\n",
    "\n",
    "resultat = jouer_pierre_papier_ciseaux(strategie_joueur1, strategie_joueur2)\n",
    "print(f\"Résultat : {resultat}\")\n"
   ]
  },
  {
   "cell_type": "code",
   "execution_count": 86,
   "metadata": {},
   "outputs": [
    {
     "name": "stdout",
     "output_type": "stream",
     "text": [
      "Stratégie Mixte du Joueur 1: [0.33333333 0.33333333 0.33333333]\n",
      "Stratégie Mixte du Joueur 2: [0.5 0.5]\n"
     ]
    }
   ],
   "source": [
    "import numpy as np\n",
    "\n",
    "def calculate_mixed_strategy(payoff_matrix_player1, payoff_matrix_player2):\n",
    "    num_strategies_player1 = len(payoff_matrix_player1)\n",
    "    num_strategies_player2 = len(payoff_matrix_player2[0])\n",
    "\n",
    "    # Formulate the linear programming problem for player 1\n",
    "    c1 = np.ones(num_strategies_player1) * -1\n",
    "    A_eq1 = np.ones((1, num_strategies_player1))\n",
    "    b_eq1 = np.array([1])\n",
    "\n",
    "    # Formulate the linear programming problem for player 2\n",
    "    c2 = np.ones(num_strategies_player2) * -1\n",
    "    A_eq2 = np.ones((1, num_strategies_player2))\n",
    "    b_eq2 = np.array([1])\n",
    "\n",
    "    # Solve the linear programming problems\n",
    "    result_player1 = np.linalg.lstsq(A_eq1, b_eq1, rcond=None)[0]\n",
    "    result_player2 = np.linalg.lstsq(A_eq2, b_eq2, rcond=None)[0]\n",
    "\n",
    "    return result_player1, result_player2\n",
    "\n",
    "# Exemple d'utilisation avec le jeu de la \"Bataille des sexes\"\n",
    "payoff_matrix_player1 = np.array([\n",
    "    [3, 3],\n",
    "    [2, 5],\n",
    "    [0, 6]\n",
    "])\n",
    "\n",
    "payoff_matrix_player2 = np.array([\n",
    "    [3, 2],\n",
    "    [2, 6],\n",
    "    [3, 1]\n",
    "])\n",
    "\n",
    "result_player1, result_player2 = calculate_mixed_strategy(payoff_matrix_player1, payoff_matrix_player2)\n",
    "\n",
    "print(\"Stratégie Mixte du Joueur 1:\", result_player1)\n",
    "print(\"Stratégie Mixte du Joueur 2:\", result_player2)\n"
   ]
  }
 ],
 "metadata": {
  "kernelspec": {
   "display_name": "anaDon",
   "language": "python",
   "name": "python3"
  },
  "language_info": {
   "codemirror_mode": {
    "name": "ipython",
    "version": 3
   },
   "file_extension": ".py",
   "mimetype": "text/x-python",
   "name": "python",
   "nbconvert_exporter": "python",
   "pygments_lexer": "ipython3",
   "version": "3.12.1"
  }
 },
 "nbformat": 4,
 "nbformat_minor": 2
}
